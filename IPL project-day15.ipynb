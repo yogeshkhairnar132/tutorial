{
 "cells": [
  {
   "cell_type": "markdown",
   "id": "6bf0bf90",
   "metadata": {},
   "source": [
    "# project / task -3"
   ]
  },
  {
   "cell_type": "markdown",
   "id": "daf90761",
   "metadata": {},
   "source": [
    "### MATRICES / NUMPY -----\n",
    "\n",
    "* Matrix is the tabular representation of the data\n",
    "* Lot of datas are stored in table format,that is why Matrices is very very important topic in python\n",
    "* as we working on dataframe so matrices are played a major rule \n",
    "* List is one dimension & matrix is multidimension\n",
    "* indexation is very important to plot the datapoints\n",
    "\n",
    "* we will see tht & we gonna analyze the NBA players  \n",
    "* hear i have taken top 10 highest paid player in 2015-2016 season\n",
    "* we will analyze how 10 players have been playing over the past 10  years & we had the data for past 10yrs yrs\n",
    "* our main goal is to find trends,patterns & their performance for     the past 10 yrs\n",
    "* ultimately they haven't always been top 10 player & lets see how     they improving, what actually secreates or patterns\n",
    "* dont worry guys if you dont know anything about basket ball NBA\n",
    "* I will explain indepth of everything\n",
    "* lets analyze the statistics of the basket ball player\n",
    "* gp - total games played,mpg - minutes per game,field goal(accuracy), ppg (points per game)  -- this   is no of point player has scores in that season  \n",
    "* guys slowly i am bringing you into data analytics, jump into datavisualization using python\n",
    "* i will give you the this code can everybody copy and paste your jupyter notebook\n",
    "\n",
    "* Now i will explain with matrices"
   ]
  },
  {
   "cell_type": "code",
   "execution_count": 1,
   "id": "56579487",
   "metadata": {},
   "outputs": [],
   "source": [
    "#Import numpy\n",
    "import numpy as np\n",
    "\n",
    "#Seasons\n",
    "Seasons = [\"2010\",\"2011\",\"2012\",\"2013\",\"2014\",\"2015\",\"2016\",\"2017\",\"2018\",\"2019\"]\n",
    "Sdict = {\"2010\":0,\"2011\":1,\"2012\":2,\"2013\":3,\"2014\":4,\"2015\":5,\"2016\":6,\"2017\":7,\"2018\":8,\"2019\":9}\n",
    "\n",
    "#Players\n",
    "Players = [\"Sachin\",\"Rahul\",\"Smith\",\"Sami\",\"Pollard\",\"Morris\",\"Samson\",\"Dhoni\",\"Kohli\",\"Sky\"]\n",
    "Pdict = {\"Sachin\":0,\"Rahul\":1,\"Smith\":2,\"Sami\":3,\"Pollard\":4,\"Morris\":5,\"Samson\":6,\"Dhoni\":7,\"Kohli\":8,\"Sky\":9}\n",
    "\n",
    "#Salaries\n",
    "Sachin_Salary = [15946875,17718750,19490625,21262500,23034375,24806250,25244493,27849149,30453805,23500000]\n",
    "Rahul_Salary = [12000000,12744189,13488377,14232567,14976754,16324500,18038573,19752645,21466718,23180790]\n",
    "Smith_Salary = [4621800,5828090,13041250,14410581,15779912,14500000,16022500,17545000,19067500,20644400]\n",
    "Sami_Salary = [3713640,4694041,13041250,14410581,15779912,17149243,18518574,19450000,22407474,22458000]\n",
    "Pollard_Salary = [4493160,4806720,6061274,13758000,15202590,16647180,18091770,19536360,20513178,21436271]\n",
    "Morris_Salary = [3348000,4235220,12455000,14410581,15779912,14500000,16022500,17545000,19067500,20644400]\n",
    "Samson_Salary = [3144240,3380160,3615960,4574189,13520500,14940153,16359805,17779458,18668431,20068563]\n",
    "Dhoni_Salary = [0,0,4171200,4484040,4796880,6053663,15506632,16669630,17832627,18995624]\n",
    "Kohli_Salary = [0,0,0,4822800,5184480,5546160,6993708,16402500,17632688,18862875]\n",
    "Sky_Salary = [3031920,3841443,13041250,14410581,15779912,14200000,15691000,17182000,18673000,15000000]\n",
    "#Matrix\n",
    "Salary = np.array([Sachin_Salary, Rahul_Salary, Smith_Salary, Sami_Salary, Pollard_Salary, Morris_Salary, Samson_Salary, Dhoni_Salary, Kohli_Salary, Sky_Salary])\n",
    "\n",
    "#Games \n",
    "Sachin_G = [80,77,82,82,73,82,58,78,6,35]\n",
    "Rahul_G = [82,57,82,79,76,72,60,72,79,80]\n",
    "Smith_G = [79,78,75,81,76,79,62,76,77,69]\n",
    "Sami_G = [80,65,77,66,69,77,55,67,77,40]\n",
    "Pollard_G = [82,82,82,79,82,78,54,76,71,41]\n",
    "Morris_G = [70,69,67,77,70,77,57,74,79,44]\n",
    "Samson_G = [78,64,80,78,45,80,60,70,62,82]\n",
    "Dhoni_G = [35,35,80,74,82,78,66,81,81,27]\n",
    "Kohli_G = [40,40,40,81,78,81,39,0,10,51]\n",
    "Sky_G = [75,51,51,79,77,76,49,69,54,62]\n",
    "#Matrix\n",
    "Games = np.array([Sachin_G, Rahul_G, Smith_G, Sami_G, Pollard_G, Morris_G, Samson_G, Dhoni_G, Kohli_G, Sky_G])\n",
    "\n",
    "#Points\n",
    "Sachin_PTS = [2832,2430,2323,2201,1970,2078,1616,2133,83,782]\n",
    "Rahul_PTS = [1653,1426,1779,1688,1619,1312,1129,1170,1245,1154]\n",
    "Smith_PTS = [2478,2132,2250,2304,2258,2111,1683,2036,2089,1743]\n",
    "Sami_PTS = [2122,1881,1978,1504,1943,1970,1245,1920,2112,966]\n",
    "Pollard_PTS = [1292,1443,1695,1624,1503,1784,1113,1296,1297,646]\n",
    "Morris_PTS = [1572,1561,1496,1746,1678,1438,1025,1232,1281,928]\n",
    "Samson_PTS = [1258,1104,1684,1781,841,1268,1189,1186,1185,1564]\n",
    "Dhoni_PTS = [903,903,1624,1871,2472,2161,1850,2280,2593,686]\n",
    "Kohli_PTS = [597,597,597,1361,1619,2026,852,0,159,904]\n",
    "Sky_PTS = [2040,1397,1254,2386,2045,1941,1082,1463,1028,1331]\n",
    "#Matrix\n",
    "Points = np.array([Sachin_PTS, Rahul_PTS, Smith_PTS, Sami_PTS, Pollard_PTS, Morris_PTS, Samson_PTS, Dhoni_PTS, Kohli_PTS, Sky_PTS])             \n",
    "                  "
   ]
  },
  {
   "cell_type": "code",
   "execution_count": 2,
   "id": "ff7ab2c1",
   "metadata": {},
   "outputs": [
    {
     "data": {
      "text/plain": [
       "array([[15946875, 17718750, 19490625, 21262500, 23034375, 24806250,\n",
       "        25244493, 27849149, 30453805, 23500000],\n",
       "       [12000000, 12744189, 13488377, 14232567, 14976754, 16324500,\n",
       "        18038573, 19752645, 21466718, 23180790],\n",
       "       [ 4621800,  5828090, 13041250, 14410581, 15779912, 14500000,\n",
       "        16022500, 17545000, 19067500, 20644400],\n",
       "       [ 3713640,  4694041, 13041250, 14410581, 15779912, 17149243,\n",
       "        18518574, 19450000, 22407474, 22458000],\n",
       "       [ 4493160,  4806720,  6061274, 13758000, 15202590, 16647180,\n",
       "        18091770, 19536360, 20513178, 21436271],\n",
       "       [ 3348000,  4235220, 12455000, 14410581, 15779912, 14500000,\n",
       "        16022500, 17545000, 19067500, 20644400],\n",
       "       [ 3144240,  3380160,  3615960,  4574189, 13520500, 14940153,\n",
       "        16359805, 17779458, 18668431, 20068563],\n",
       "       [       0,        0,  4171200,  4484040,  4796880,  6053663,\n",
       "        15506632, 16669630, 17832627, 18995624],\n",
       "       [       0,        0,        0,  4822800,  5184480,  5546160,\n",
       "         6993708, 16402500, 17632688, 18862875],\n",
       "       [ 3031920,  3841443, 13041250, 14410581, 15779912, 14200000,\n",
       "        15691000, 17182000, 18673000, 15000000]])"
      ]
     },
     "execution_count": 2,
     "metadata": {},
     "output_type": "execute_result"
    }
   ],
   "source": [
    "Salary  # martrix format"
   ]
  },
  {
   "cell_type": "code",
   "execution_count": 3,
   "id": "c18c790a",
   "metadata": {},
   "outputs": [
    {
     "data": {
      "text/plain": [
       "array([[80, 77, 82, 82, 73, 82, 58, 78,  6, 35],\n",
       "       [82, 57, 82, 79, 76, 72, 60, 72, 79, 80],\n",
       "       [79, 78, 75, 81, 76, 79, 62, 76, 77, 69],\n",
       "       [80, 65, 77, 66, 69, 77, 55, 67, 77, 40],\n",
       "       [82, 82, 82, 79, 82, 78, 54, 76, 71, 41],\n",
       "       [70, 69, 67, 77, 70, 77, 57, 74, 79, 44],\n",
       "       [78, 64, 80, 78, 45, 80, 60, 70, 62, 82],\n",
       "       [35, 35, 80, 74, 82, 78, 66, 81, 81, 27],\n",
       "       [40, 40, 40, 81, 78, 81, 39,  0, 10, 51],\n",
       "       [75, 51, 51, 79, 77, 76, 49, 69, 54, 62]])"
      ]
     },
     "execution_count": 3,
     "metadata": {},
     "output_type": "execute_result"
    }
   ],
   "source": [
    "# Building your first matrix - \n",
    "Games"
   ]
  },
  {
   "cell_type": "code",
   "execution_count": 4,
   "id": "c087ce99",
   "metadata": {},
   "outputs": [
    {
     "data": {
      "text/plain": [
       "array([[2832, 2430, 2323, 2201, 1970, 2078, 1616, 2133,   83,  782],\n",
       "       [1653, 1426, 1779, 1688, 1619, 1312, 1129, 1170, 1245, 1154],\n",
       "       [2478, 2132, 2250, 2304, 2258, 2111, 1683, 2036, 2089, 1743],\n",
       "       [2122, 1881, 1978, 1504, 1943, 1970, 1245, 1920, 2112,  966],\n",
       "       [1292, 1443, 1695, 1624, 1503, 1784, 1113, 1296, 1297,  646],\n",
       "       [1572, 1561, 1496, 1746, 1678, 1438, 1025, 1232, 1281,  928],\n",
       "       [1258, 1104, 1684, 1781,  841, 1268, 1189, 1186, 1185, 1564],\n",
       "       [ 903,  903, 1624, 1871, 2472, 2161, 1850, 2280, 2593,  686],\n",
       "       [ 597,  597,  597, 1361, 1619, 2026,  852,    0,  159,  904],\n",
       "       [2040, 1397, 1254, 2386, 2045, 1941, 1082, 1463, 1028, 1331]])"
      ]
     },
     "execution_count": 4,
     "metadata": {},
     "output_type": "execute_result"
    }
   ],
   "source": [
    "Points"
   ]
  },
  {
   "cell_type": "code",
   "execution_count": 5,
   "id": "770d1752",
   "metadata": {},
   "outputs": [
    {
     "name": "stdout",
     "output_type": "stream",
     "text": [
      "[ 0  1  2  3  4  5  6  7  8  9 10 11 12 13 14 15 16 17 18 19]\n"
     ]
    }
   ],
   "source": [
    "mydata = np.arange(0,20)\n",
    "print(mydata) "
   ]
  },
  {
   "cell_type": "code",
   "execution_count": 6,
   "id": "65525dfb",
   "metadata": {},
   "outputs": [
    {
     "data": {
      "text/plain": [
       "array([[ 0,  1,  2,  3,  4],\n",
       "       [ 5,  6,  7,  8,  9],\n",
       "       [10, 11, 12, 13, 14],\n",
       "       [15, 16, 17, 18, 19]])"
      ]
     },
     "execution_count": 6,
     "metadata": {},
     "output_type": "execute_result"
    }
   ],
   "source": [
    "np.reshape(mydata,(4,5)) # 5 rows & 4 columns "
   ]
  },
  {
   "cell_type": "code",
   "execution_count": 7,
   "id": "7674e908",
   "metadata": {},
   "outputs": [
    {
     "data": {
      "text/plain": [
       "array([ 0,  1,  2,  3,  4,  5,  6,  7,  8,  9, 10, 11, 12, 13, 14, 15, 16,\n",
       "       17, 18, 19])"
      ]
     },
     "execution_count": 7,
     "metadata": {},
     "output_type": "execute_result"
    }
   ],
   "source": [
    "mydata"
   ]
  },
  {
   "cell_type": "code",
   "execution_count": 8,
   "id": "9bb7cfdb",
   "metadata": {},
   "outputs": [
    {
     "data": {
      "text/plain": [
       "array([[ 0,  1,  2,  3],\n",
       "       [ 4,  5,  6,  7],\n",
       "       [ 8,  9, 10, 11],\n",
       "       [12, 13, 14, 15],\n",
       "       [16, 17, 18, 19]])"
      ]
     },
     "execution_count": 8,
     "metadata": {},
     "output_type": "execute_result"
    }
   ],
   "source": [
    "#np.reshape(mydata,(5,4), order = 'c') #'C' means to read / write the elements using C-like index order\n",
    "MATR1 = np.reshape(mydata, (5,4), order = 'c')\n",
    "MATR1"
   ]
  },
  {
   "cell_type": "code",
   "execution_count": 9,
   "id": "34bc6253",
   "metadata": {},
   "outputs": [
    {
     "data": {
      "text/plain": [
       "array([[ 0,  1,  2,  3],\n",
       "       [ 4,  5,  6,  7],\n",
       "       [ 8,  9, 10, 11],\n",
       "       [12, 13, 14, 15],\n",
       "       [16, 17, 18, 19]])"
      ]
     },
     "execution_count": 9,
     "metadata": {},
     "output_type": "execute_result"
    }
   ],
   "source": [
    "MATR1"
   ]
  },
  {
   "cell_type": "code",
   "execution_count": 10,
   "id": "a879e39f",
   "metadata": {},
   "outputs": [
    {
     "data": {
      "text/plain": [
       "19"
      ]
     },
     "execution_count": 10,
     "metadata": {},
     "output_type": "execute_result"
    }
   ],
   "source": [
    "# If i want to get only no.3 \n",
    "MATR1[4,3]   "
   ]
  },
  {
   "cell_type": "code",
   "execution_count": 11,
   "id": "1a99d32e",
   "metadata": {},
   "outputs": [
    {
     "data": {
      "text/plain": [
       "15"
      ]
     },
     "execution_count": 11,
     "metadata": {},
     "output_type": "execute_result"
    }
   ],
   "source": [
    "MATR1[3,3] "
   ]
  },
  {
   "cell_type": "code",
   "execution_count": 12,
   "id": "3b1a4205",
   "metadata": {},
   "outputs": [
    {
     "data": {
      "text/plain": [
       "array([[ 0,  1,  2,  3],\n",
       "       [ 4,  5,  6,  7],\n",
       "       [ 8,  9, 10, 11],\n",
       "       [12, 13, 14, 15],\n",
       "       [16, 17, 18, 19]])"
      ]
     },
     "execution_count": 12,
     "metadata": {},
     "output_type": "execute_result"
    }
   ],
   "source": [
    "MATR1"
   ]
  },
  {
   "cell_type": "code",
   "execution_count": 13,
   "id": "1e641fce",
   "metadata": {},
   "outputs": [
    {
     "data": {
      "text/plain": [
       "11"
      ]
     },
     "execution_count": 13,
     "metadata": {},
     "output_type": "execute_result"
    }
   ],
   "source": [
    "MATR1[-3,-1] "
   ]
  },
  {
   "cell_type": "code",
   "execution_count": 14,
   "id": "4e188057",
   "metadata": {},
   "outputs": [
    {
     "data": {
      "text/plain": [
       "array([[ 0,  1,  2,  3],\n",
       "       [ 4,  5,  6,  7],\n",
       "       [ 8,  9, 10, 11],\n",
       "       [12, 13, 14, 15],\n",
       "       [16, 17, 18, 19]])"
      ]
     },
     "execution_count": 14,
     "metadata": {},
     "output_type": "execute_result"
    }
   ],
   "source": [
    "MATR1"
   ]
  },
  {
   "cell_type": "code",
   "execution_count": 15,
   "id": "9538134f",
   "metadata": {},
   "outputs": [
    {
     "data": {
      "text/plain": [
       "array([ 0,  1,  2,  3,  4,  5,  6,  7,  8,  9, 10, 11, 12, 13, 14, 15, 16,\n",
       "       17, 18, 19])"
      ]
     },
     "execution_count": 15,
     "metadata": {},
     "output_type": "execute_result"
    }
   ],
   "source": [
    "mydata"
   ]
  },
  {
   "cell_type": "code",
   "execution_count": 16,
   "id": "2293bf0c",
   "metadata": {},
   "outputs": [
    {
     "data": {
      "text/plain": [
       "array([[ 0,  5, 10, 15],\n",
       "       [ 1,  6, 11, 16],\n",
       "       [ 2,  7, 12, 17],\n",
       "       [ 3,  8, 13, 18],\n",
       "       [ 4,  9, 14, 19]])"
      ]
     },
     "execution_count": 16,
     "metadata": {},
     "output_type": "execute_result"
    }
   ],
   "source": [
    "MATR2 = np.reshape(mydata, (5,4), order = 'F') # reshape behaviour are  - 'C','F','A'\n",
    "MATR2"
   ]
  },
  {
   "cell_type": "code",
   "execution_count": 17,
   "id": "c6be3074",
   "metadata": {},
   "outputs": [
    {
     "data": {
      "text/plain": [
       "19"
      ]
     },
     "execution_count": 17,
     "metadata": {},
     "output_type": "execute_result"
    }
   ],
   "source": [
    "MATR2[4,3]  "
   ]
  },
  {
   "cell_type": "code",
   "execution_count": 18,
   "id": "a379df4c",
   "metadata": {},
   "outputs": [
    {
     "data": {
      "text/plain": [
       "10"
      ]
     },
     "execution_count": 18,
     "metadata": {},
     "output_type": "execute_result"
    }
   ],
   "source": [
    "MATR2[0,2] "
   ]
  },
  {
   "cell_type": "code",
   "execution_count": 19,
   "id": "53a7368c",
   "metadata": {},
   "outputs": [
    {
     "data": {
      "text/plain": [
       "array([[ 0,  5, 10, 15],\n",
       "       [ 1,  6, 11, 16]])"
      ]
     },
     "execution_count": 19,
     "metadata": {},
     "output_type": "execute_result"
    }
   ],
   "source": [
    "MATR2[0:2] "
   ]
  },
  {
   "cell_type": "code",
   "execution_count": 20,
   "id": "fdecc64c",
   "metadata": {},
   "outputs": [
    {
     "data": {
      "text/plain": [
       "array([[ 0,  5, 10, 15],\n",
       "       [ 1,  6, 11, 16],\n",
       "       [ 2,  7, 12, 17],\n",
       "       [ 3,  8, 13, 18],\n",
       "       [ 4,  9, 14, 19]])"
      ]
     },
     "execution_count": 20,
     "metadata": {},
     "output_type": "execute_result"
    }
   ],
   "source": [
    "MATR2"
   ]
  },
  {
   "cell_type": "code",
   "execution_count": 21,
   "id": "3989e91a",
   "metadata": {},
   "outputs": [
    {
     "data": {
      "text/plain": [
       "array([[ 1,  6, 11, 16]])"
      ]
     },
     "execution_count": 21,
     "metadata": {},
     "output_type": "execute_result"
    }
   ],
   "source": [
    "MATR2[1:2] "
   ]
  },
  {
   "cell_type": "code",
   "execution_count": 22,
   "id": "aba23c46",
   "metadata": {},
   "outputs": [
    {
     "data": {
      "text/plain": [
       "11"
      ]
     },
     "execution_count": 22,
     "metadata": {},
     "output_type": "execute_result"
    }
   ],
   "source": [
    "MATR2[1,2] "
   ]
  },
  {
   "cell_type": "code",
   "execution_count": 23,
   "id": "82bbd75e",
   "metadata": {},
   "outputs": [
    {
     "data": {
      "text/plain": [
       "array([[ 0,  5, 10, 15],\n",
       "       [ 1,  6, 11, 16],\n",
       "       [ 2,  7, 12, 17],\n",
       "       [ 3,  8, 13, 18],\n",
       "       [ 4,  9, 14, 19]])"
      ]
     },
     "execution_count": 23,
     "metadata": {},
     "output_type": "execute_result"
    }
   ],
   "source": [
    "MATR2"
   ]
  },
  {
   "cell_type": "code",
   "execution_count": 24,
   "id": "aaae4e02",
   "metadata": {},
   "outputs": [
    {
     "data": {
      "text/plain": [
       "18"
      ]
     },
     "execution_count": 24,
     "metadata": {},
     "output_type": "execute_result"
    }
   ],
   "source": [
    "MATR2[-2,-1]  "
   ]
  },
  {
   "cell_type": "code",
   "execution_count": 25,
   "id": "983b7d6c",
   "metadata": {},
   "outputs": [
    {
     "data": {
      "text/plain": [
       "7"
      ]
     },
     "execution_count": 25,
     "metadata": {},
     "output_type": "execute_result"
    }
   ],
   "source": [
    "MATR2[-3,-3]  "
   ]
  },
  {
   "cell_type": "code",
   "execution_count": 26,
   "id": "e52e3fd4",
   "metadata": {},
   "outputs": [
    {
     "data": {
      "text/plain": [
       "array([[ 0,  5, 10, 15],\n",
       "       [ 1,  6, 11, 16],\n",
       "       [ 2,  7, 12, 17],\n",
       "       [ 3,  8, 13, 18],\n",
       "       [ 4,  9, 14, 19]])"
      ]
     },
     "execution_count": 26,
     "metadata": {},
     "output_type": "execute_result"
    }
   ],
   "source": [
    "MATR2"
   ]
  },
  {
   "cell_type": "code",
   "execution_count": 27,
   "id": "ac8d8528",
   "metadata": {},
   "outputs": [
    {
     "data": {
      "text/plain": [
       "array([[ 0,  5, 10, 15],\n",
       "       [ 1,  6, 11, 16]])"
      ]
     },
     "execution_count": 27,
     "metadata": {},
     "output_type": "execute_result"
    }
   ],
   "source": [
    "MATR2[0:2]"
   ]
  },
  {
   "cell_type": "code",
   "execution_count": 28,
   "id": "937c24eb",
   "metadata": {},
   "outputs": [
    {
     "data": {
      "text/plain": [
       "array([ 0,  1,  2,  3,  4,  5,  6,  7,  8,  9, 10, 11, 12, 13, 14, 15, 16,\n",
       "       17, 18, 19])"
      ]
     },
     "execution_count": 28,
     "metadata": {},
     "output_type": "execute_result"
    }
   ],
   "source": [
    "mydata"
   ]
  },
  {
   "cell_type": "code",
   "execution_count": 29,
   "id": "39c6c697",
   "metadata": {},
   "outputs": [
    {
     "data": {
      "text/plain": [
       "array([[ 0,  1,  2,  3],\n",
       "       [ 4,  5,  6,  7],\n",
       "       [ 8,  9, 10, 11],\n",
       "       [12, 13, 14, 15],\n",
       "       [16, 17, 18, 19]])"
      ]
     },
     "execution_count": 29,
     "metadata": {},
     "output_type": "execute_result"
    }
   ],
   "source": [
    "MATR3 = np.reshape(mydata, (5,4), order = 'A')\n",
    "MATR3"
   ]
  },
  {
   "cell_type": "code",
   "execution_count": 30,
   "id": "348727e7",
   "metadata": {},
   "outputs": [
    {
     "data": {
      "text/plain": [
       "array([[ 0,  5, 10, 15],\n",
       "       [ 1,  6, 11, 16],\n",
       "       [ 2,  7, 12, 17],\n",
       "       [ 3,  8, 13, 18],\n",
       "       [ 4,  9, 14, 19]])"
      ]
     },
     "execution_count": 30,
     "metadata": {},
     "output_type": "execute_result"
    }
   ],
   "source": [
    "MATR2 ## F shaped"
   ]
  },
  {
   "cell_type": "code",
   "execution_count": 31,
   "id": "49fe68f5",
   "metadata": {},
   "outputs": [
    {
     "data": {
      "text/plain": [
       "array([[ 0,  1,  2,  3],\n",
       "       [ 4,  5,  6,  7],\n",
       "       [ 8,  9, 10, 11],\n",
       "       [12, 13, 14, 15],\n",
       "       [16, 17, 18, 19]])"
      ]
     },
     "execution_count": 31,
     "metadata": {},
     "output_type": "execute_result"
    }
   ],
   "source": [
    "MATR1 # C shaped"
   ]
  },
  {
   "cell_type": "code",
   "execution_count": 32,
   "id": "d515ca3b",
   "metadata": {},
   "outputs": [],
   "source": [
    "a1 = ['welcome', 'to','datascience']\n",
    "a2 = ['required','hard','work' ]\n",
    "a3 = [1,2,3] "
   ]
  },
  {
   "cell_type": "code",
   "execution_count": 33,
   "id": "903482b8",
   "metadata": {},
   "outputs": [
    {
     "data": {
      "text/plain": [
       "[['welcome', 'to', 'datascience'], ['required', 'hard', 'work'], [1, 2, 3]]"
      ]
     },
     "execution_count": 33,
     "metadata": {},
     "output_type": "execute_result"
    }
   ],
   "source": [
    "[a1,a2,a3] # List same dataypte "
   ]
  },
  {
   "cell_type": "code",
   "execution_count": 34,
   "id": "e110b292",
   "metadata": {},
   "outputs": [
    {
     "data": {
      "text/plain": [
       "[['welcome', 'to', 'datascience'], ['required', 'hard', 'work'], [1, 2, 3]]"
      ]
     },
     "execution_count": 34,
     "metadata": {},
     "output_type": "execute_result"
    }
   ],
   "source": [
    "[a1,a2,a3] # List same dataypte "
   ]
  },
  {
   "cell_type": "code",
   "execution_count": 35,
   "id": "4f2c1e91",
   "metadata": {},
   "outputs": [
    {
     "data": {
      "text/plain": [
       "array([[80, 77, 82, 82, 73, 82, 58, 78,  6, 35],\n",
       "       [82, 57, 82, 79, 76, 72, 60, 72, 79, 80],\n",
       "       [79, 78, 75, 81, 76, 79, 62, 76, 77, 69],\n",
       "       [80, 65, 77, 66, 69, 77, 55, 67, 77, 40],\n",
       "       [82, 82, 82, 79, 82, 78, 54, 76, 71, 41],\n",
       "       [70, 69, 67, 77, 70, 77, 57, 74, 79, 44],\n",
       "       [78, 64, 80, 78, 45, 80, 60, 70, 62, 82],\n",
       "       [35, 35, 80, 74, 82, 78, 66, 81, 81, 27],\n",
       "       [40, 40, 40, 81, 78, 81, 39,  0, 10, 51],\n",
       "       [75, 51, 51, 79, 77, 76, 49, 69, 54, 62]])"
      ]
     },
     "execution_count": 35,
     "metadata": {},
     "output_type": "execute_result"
    }
   ],
   "source": [
    "Games"
   ]
  },
  {
   "cell_type": "code",
   "execution_count": 36,
   "id": "4c43fd65",
   "metadata": {},
   "outputs": [
    {
     "data": {
      "text/plain": [
       "array([80, 77, 82, 82, 73, 82, 58, 78,  6, 35])"
      ]
     },
     "execution_count": 36,
     "metadata": {},
     "output_type": "execute_result"
    }
   ],
   "source": [
    "Games[0] "
   ]
  },
  {
   "cell_type": "code",
   "execution_count": 37,
   "id": "68395f95",
   "metadata": {},
   "outputs": [
    {
     "data": {
      "text/plain": [
       "array([70, 69, 67, 77, 70, 77, 57, 74, 79, 44])"
      ]
     },
     "execution_count": 37,
     "metadata": {},
     "output_type": "execute_result"
    }
   ],
   "source": [
    "Games[5] "
   ]
  },
  {
   "cell_type": "code",
   "execution_count": 38,
   "id": "b5e1b33a",
   "metadata": {},
   "outputs": [
    {
     "data": {
      "text/plain": [
       "array([[80, 77, 82, 82, 73, 82, 58, 78,  6, 35],\n",
       "       [82, 57, 82, 79, 76, 72, 60, 72, 79, 80],\n",
       "       [79, 78, 75, 81, 76, 79, 62, 76, 77, 69],\n",
       "       [80, 65, 77, 66, 69, 77, 55, 67, 77, 40],\n",
       "       [82, 82, 82, 79, 82, 78, 54, 76, 71, 41]])"
      ]
     },
     "execution_count": 38,
     "metadata": {},
     "output_type": "execute_result"
    }
   ],
   "source": [
    "Games[0:5] "
   ]
  },
  {
   "cell_type": "code",
   "execution_count": 39,
   "id": "813fd29a",
   "metadata": {},
   "outputs": [
    {
     "data": {
      "text/plain": [
       "82"
      ]
     },
     "execution_count": 39,
     "metadata": {},
     "output_type": "execute_result"
    }
   ],
   "source": [
    "Games[0,5] "
   ]
  },
  {
   "cell_type": "code",
   "execution_count": 40,
   "id": "673e2b0b",
   "metadata": {},
   "outputs": [
    {
     "data": {
      "text/plain": [
       "82"
      ]
     },
     "execution_count": 40,
     "metadata": {},
     "output_type": "execute_result"
    }
   ],
   "source": [
    "Games[0,2] "
   ]
  },
  {
   "cell_type": "code",
   "execution_count": 41,
   "id": "aed32b2f",
   "metadata": {},
   "outputs": [
    {
     "data": {
      "text/plain": [
       "array([[80, 77, 82, 82, 73, 82, 58, 78,  6, 35],\n",
       "       [82, 57, 82, 79, 76, 72, 60, 72, 79, 80],\n",
       "       [79, 78, 75, 81, 76, 79, 62, 76, 77, 69],\n",
       "       [80, 65, 77, 66, 69, 77, 55, 67, 77, 40],\n",
       "       [82, 82, 82, 79, 82, 78, 54, 76, 71, 41],\n",
       "       [70, 69, 67, 77, 70, 77, 57, 74, 79, 44],\n",
       "       [78, 64, 80, 78, 45, 80, 60, 70, 62, 82],\n",
       "       [35, 35, 80, 74, 82, 78, 66, 81, 81, 27],\n",
       "       [40, 40, 40, 81, 78, 81, 39,  0, 10, 51],\n",
       "       [75, 51, 51, 79, 77, 76, 49, 69, 54, 62]])"
      ]
     },
     "execution_count": 41,
     "metadata": {},
     "output_type": "execute_result"
    }
   ],
   "source": [
    "Games"
   ]
  },
  {
   "cell_type": "code",
   "execution_count": 42,
   "id": "9eda4e88",
   "metadata": {},
   "outputs": [
    {
     "data": {
      "text/plain": [
       "array([[80, 77, 82, 82, 73, 82, 58, 78,  6, 35],\n",
       "       [82, 57, 82, 79, 76, 72, 60, 72, 79, 80]])"
      ]
     },
     "execution_count": 42,
     "metadata": {},
     "output_type": "execute_result"
    }
   ],
   "source": [
    "Games[0:2]"
   ]
  },
  {
   "cell_type": "code",
   "execution_count": 43,
   "id": "0f7d3631",
   "metadata": {},
   "outputs": [
    {
     "data": {
      "text/plain": [
       "array([[80, 77, 82, 82, 73, 82, 58, 78,  6, 35],\n",
       "       [82, 57, 82, 79, 76, 72, 60, 72, 79, 80],\n",
       "       [79, 78, 75, 81, 76, 79, 62, 76, 77, 69],\n",
       "       [80, 65, 77, 66, 69, 77, 55, 67, 77, 40],\n",
       "       [82, 82, 82, 79, 82, 78, 54, 76, 71, 41],\n",
       "       [70, 69, 67, 77, 70, 77, 57, 74, 79, 44],\n",
       "       [78, 64, 80, 78, 45, 80, 60, 70, 62, 82],\n",
       "       [35, 35, 80, 74, 82, 78, 66, 81, 81, 27],\n",
       "       [40, 40, 40, 81, 78, 81, 39,  0, 10, 51],\n",
       "       [75, 51, 51, 79, 77, 76, 49, 69, 54, 62]])"
      ]
     },
     "execution_count": 43,
     "metadata": {},
     "output_type": "execute_result"
    }
   ],
   "source": [
    "Games"
   ]
  },
  {
   "cell_type": "code",
   "execution_count": 44,
   "id": "e8a96ecd",
   "metadata": {},
   "outputs": [
    {
     "data": {
      "text/plain": [
       "array([[82, 57, 82, 79, 76, 72, 60, 72, 79, 80]])"
      ]
     },
     "execution_count": 44,
     "metadata": {},
     "output_type": "execute_result"
    }
   ],
   "source": [
    "Games[1:2] "
   ]
  },
  {
   "cell_type": "code",
   "execution_count": 45,
   "id": "2d0190b7",
   "metadata": {},
   "outputs": [
    {
     "data": {
      "text/plain": [
       "array([79, 78, 75, 81, 76, 79, 62, 76, 77, 69])"
      ]
     },
     "execution_count": 45,
     "metadata": {},
     "output_type": "execute_result"
    }
   ],
   "source": [
    "Games[2] "
   ]
  },
  {
   "cell_type": "code",
   "execution_count": 46,
   "id": "bb5d1bc7",
   "metadata": {},
   "outputs": [
    {
     "data": {
      "text/plain": [
       "array([[80, 77, 82, 82, 73, 82, 58, 78,  6, 35],\n",
       "       [82, 57, 82, 79, 76, 72, 60, 72, 79, 80],\n",
       "       [79, 78, 75, 81, 76, 79, 62, 76, 77, 69],\n",
       "       [80, 65, 77, 66, 69, 77, 55, 67, 77, 40],\n",
       "       [82, 82, 82, 79, 82, 78, 54, 76, 71, 41],\n",
       "       [70, 69, 67, 77, 70, 77, 57, 74, 79, 44],\n",
       "       [78, 64, 80, 78, 45, 80, 60, 70, 62, 82],\n",
       "       [35, 35, 80, 74, 82, 78, 66, 81, 81, 27],\n",
       "       [40, 40, 40, 81, 78, 81, 39,  0, 10, 51],\n",
       "       [75, 51, 51, 79, 77, 76, 49, 69, 54, 62]])"
      ]
     },
     "execution_count": 46,
     "metadata": {},
     "output_type": "execute_result"
    }
   ],
   "source": [
    "Games"
   ]
  },
  {
   "cell_type": "code",
   "execution_count": 47,
   "id": "58ee4a80",
   "metadata": {},
   "outputs": [
    {
     "data": {
      "text/plain": [
       "77"
      ]
     },
     "execution_count": 47,
     "metadata": {},
     "output_type": "execute_result"
    }
   ],
   "source": [
    "Games[2,8] "
   ]
  },
  {
   "cell_type": "code",
   "execution_count": 48,
   "id": "0d7517dd",
   "metadata": {},
   "outputs": [
    {
     "data": {
      "text/plain": [
       "array([[80, 77, 82, 82, 73, 82, 58, 78,  6, 35],\n",
       "       [82, 57, 82, 79, 76, 72, 60, 72, 79, 80],\n",
       "       [79, 78, 75, 81, 76, 79, 62, 76, 77, 69],\n",
       "       [80, 65, 77, 66, 69, 77, 55, 67, 77, 40],\n",
       "       [82, 82, 82, 79, 82, 78, 54, 76, 71, 41],\n",
       "       [70, 69, 67, 77, 70, 77, 57, 74, 79, 44],\n",
       "       [78, 64, 80, 78, 45, 80, 60, 70, 62, 82],\n",
       "       [35, 35, 80, 74, 82, 78, 66, 81, 81, 27],\n",
       "       [40, 40, 40, 81, 78, 81, 39,  0, 10, 51],\n",
       "       [75, 51, 51, 79, 77, 76, 49, 69, 54, 62]])"
      ]
     },
     "execution_count": 48,
     "metadata": {},
     "output_type": "execute_result"
    }
   ],
   "source": [
    "Games"
   ]
  },
  {
   "cell_type": "code",
   "execution_count": 49,
   "id": "23cf58c0",
   "metadata": {},
   "outputs": [
    {
     "data": {
      "text/plain": [
       "array([[35, 35, 80, 74, 82, 78, 66, 81, 81, 27],\n",
       "       [40, 40, 40, 81, 78, 81, 39,  0, 10, 51]])"
      ]
     },
     "execution_count": 49,
     "metadata": {},
     "output_type": "execute_result"
    }
   ],
   "source": [
    "Games[-3:-1] "
   ]
  },
  {
   "cell_type": "code",
   "execution_count": 50,
   "id": "a638e789",
   "metadata": {},
   "outputs": [
    {
     "data": {
      "text/plain": [
       "array([[35, 35, 80, 74, 82, 78, 66, 81, 81, 27],\n",
       "       [40, 40, 40, 81, 78, 81, 39,  0, 10, 51]])"
      ]
     },
     "execution_count": 50,
     "metadata": {},
     "output_type": "execute_result"
    }
   ],
   "source": [
    "Games[-3:-1] "
   ]
  },
  {
   "cell_type": "code",
   "execution_count": 51,
   "id": "1f17458e",
   "metadata": {},
   "outputs": [
    {
     "data": {
      "text/plain": [
       "array([[2832, 2430, 2323, 2201, 1970, 2078, 1616, 2133,   83,  782],\n",
       "       [1653, 1426, 1779, 1688, 1619, 1312, 1129, 1170, 1245, 1154],\n",
       "       [2478, 2132, 2250, 2304, 2258, 2111, 1683, 2036, 2089, 1743],\n",
       "       [2122, 1881, 1978, 1504, 1943, 1970, 1245, 1920, 2112,  966],\n",
       "       [1292, 1443, 1695, 1624, 1503, 1784, 1113, 1296, 1297,  646],\n",
       "       [1572, 1561, 1496, 1746, 1678, 1438, 1025, 1232, 1281,  928],\n",
       "       [1258, 1104, 1684, 1781,  841, 1268, 1189, 1186, 1185, 1564],\n",
       "       [ 903,  903, 1624, 1871, 2472, 2161, 1850, 2280, 2593,  686],\n",
       "       [ 597,  597,  597, 1361, 1619, 2026,  852,    0,  159,  904],\n",
       "       [2040, 1397, 1254, 2386, 2045, 1941, 1082, 1463, 1028, 1331]])"
      ]
     },
     "execution_count": 51,
     "metadata": {},
     "output_type": "execute_result"
    }
   ],
   "source": [
    "Points"
   ]
  },
  {
   "cell_type": "code",
   "execution_count": 52,
   "id": "85808270",
   "metadata": {},
   "outputs": [
    {
     "data": {
      "text/plain": [
       "array([2832, 2430, 2323, 2201, 1970, 2078, 1616, 2133,   83,  782])"
      ]
     },
     "execution_count": 52,
     "metadata": {},
     "output_type": "execute_result"
    }
   ],
   "source": [
    "Points[0]"
   ]
  },
  {
   "cell_type": "code",
   "execution_count": 53,
   "id": "e6473de7",
   "metadata": {},
   "outputs": [
    {
     "data": {
      "text/plain": [
       "array([[2832, 2430, 2323, 2201, 1970, 2078, 1616, 2133,   83,  782],\n",
       "       [1653, 1426, 1779, 1688, 1619, 1312, 1129, 1170, 1245, 1154],\n",
       "       [2478, 2132, 2250, 2304, 2258, 2111, 1683, 2036, 2089, 1743],\n",
       "       [2122, 1881, 1978, 1504, 1943, 1970, 1245, 1920, 2112,  966],\n",
       "       [1292, 1443, 1695, 1624, 1503, 1784, 1113, 1296, 1297,  646],\n",
       "       [1572, 1561, 1496, 1746, 1678, 1438, 1025, 1232, 1281,  928],\n",
       "       [1258, 1104, 1684, 1781,  841, 1268, 1189, 1186, 1185, 1564],\n",
       "       [ 903,  903, 1624, 1871, 2472, 2161, 1850, 2280, 2593,  686],\n",
       "       [ 597,  597,  597, 1361, 1619, 2026,  852,    0,  159,  904],\n",
       "       [2040, 1397, 1254, 2386, 2045, 1941, 1082, 1463, 1028, 1331]])"
      ]
     },
     "execution_count": 53,
     "metadata": {},
     "output_type": "execute_result"
    }
   ],
   "source": [
    "Points"
   ]
  },
  {
   "cell_type": "code",
   "execution_count": 54,
   "id": "9a2f5068",
   "metadata": {},
   "outputs": [
    {
     "data": {
      "text/plain": [
       "1104"
      ]
     },
     "execution_count": 54,
     "metadata": {},
     "output_type": "execute_result"
    }
   ],
   "source": [
    "Points[6,1] "
   ]
  },
  {
   "cell_type": "code",
   "execution_count": 55,
   "id": "d3c355fe",
   "metadata": {},
   "outputs": [
    {
     "data": {
      "text/plain": [
       "array([[2122, 1881, 1978, 1504, 1943, 1970, 1245, 1920, 2112,  966],\n",
       "       [1292, 1443, 1695, 1624, 1503, 1784, 1113, 1296, 1297,  646],\n",
       "       [1572, 1561, 1496, 1746, 1678, 1438, 1025, 1232, 1281,  928]])"
      ]
     },
     "execution_count": 55,
     "metadata": {},
     "output_type": "execute_result"
    }
   ],
   "source": [
    "Points[3:6] "
   ]
  },
  {
   "cell_type": "code",
   "execution_count": 56,
   "id": "793a0ccc",
   "metadata": {},
   "outputs": [
    {
     "data": {
      "text/plain": [
       "646"
      ]
     },
     "execution_count": 56,
     "metadata": {},
     "output_type": "execute_result"
    }
   ],
   "source": [
    "Points[-6,-1] "
   ]
  },
  {
   "cell_type": "markdown",
   "id": "e0a10004",
   "metadata": {},
   "source": [
    "#              DICTIONARY \n",
    "\n",
    "###  dict does not maintain the order"
   ]
  },
  {
   "cell_type": "code",
   "execution_count": 57,
   "id": "fc89f44f",
   "metadata": {},
   "outputs": [],
   "source": [
    "dict1 = {'key1':'val1', 'key2':'val2', 'key3':'val3'}"
   ]
  },
  {
   "cell_type": "code",
   "execution_count": 58,
   "id": "0bd665f2",
   "metadata": {},
   "outputs": [
    {
     "data": {
      "text/plain": [
       "{'key1': 'val1', 'key2': 'val2', 'key3': 'val3'}"
      ]
     },
     "execution_count": 58,
     "metadata": {},
     "output_type": "execute_result"
    }
   ],
   "source": [
    "dict1"
   ]
  },
  {
   "cell_type": "code",
   "execution_count": 59,
   "id": "9fd5b513",
   "metadata": {},
   "outputs": [
    {
     "data": {
      "text/plain": [
       "'val2'"
      ]
     },
     "execution_count": 59,
     "metadata": {},
     "output_type": "execute_result"
    }
   ],
   "source": [
    "dict1['key2'] "
   ]
  },
  {
   "cell_type": "code",
   "execution_count": 60,
   "id": "40edcca0",
   "metadata": {},
   "outputs": [],
   "source": [
    "dict2 = {'bang':2,'hyd':'we are hear', 'pune':True}"
   ]
  },
  {
   "cell_type": "code",
   "execution_count": 61,
   "id": "12b83355",
   "metadata": {},
   "outputs": [
    {
     "data": {
      "text/plain": [
       "{'bang': 2, 'hyd': 'we are hear', 'pune': True}"
      ]
     },
     "execution_count": 61,
     "metadata": {},
     "output_type": "execute_result"
    }
   ],
   "source": [
    "dict2"
   ]
  },
  {
   "cell_type": "code",
   "execution_count": 62,
   "id": "bf8a472b",
   "metadata": {},
   "outputs": [],
   "source": [
    "dict3 = {'Germany':'I have been here', 'France':2, 'Spain': True}"
   ]
  },
  {
   "cell_type": "code",
   "execution_count": 63,
   "id": "23883c98",
   "metadata": {},
   "outputs": [
    {
     "data": {
      "text/plain": [
       "{'Germany': 'I have been here', 'France': 2, 'Spain': True}"
      ]
     },
     "execution_count": 63,
     "metadata": {},
     "output_type": "execute_result"
    }
   ],
   "source": [
    "dict3"
   ]
  },
  {
   "cell_type": "code",
   "execution_count": 64,
   "id": "371904cc",
   "metadata": {},
   "outputs": [
    {
     "data": {
      "text/plain": [
       "'I have been here'"
      ]
     },
     "execution_count": 64,
     "metadata": {},
     "output_type": "execute_result"
    }
   ],
   "source": [
    "dict3['Germany'] "
   ]
  },
  {
   "cell_type": "code",
   "execution_count": 65,
   "id": "d829e16d",
   "metadata": {},
   "outputs": [],
   "source": [
    "# if you check theat dataset seasons & players are dictionary type of data\n",
    "# if you look at the pdict players names are key part:nos are the values\n",
    "# dictionary can guide us which player at which level and which row\n",
    "# main advantage of the dictionary is we dont required to count which no row which players are sitting"
   ]
  },
  {
   "cell_type": "code",
   "execution_count": 66,
   "id": "e2ac1ba2",
   "metadata": {},
   "outputs": [
    {
     "data": {
      "text/plain": [
       "array([[80, 77, 82, 82, 73, 82, 58, 78,  6, 35],\n",
       "       [82, 57, 82, 79, 76, 72, 60, 72, 79, 80],\n",
       "       [79, 78, 75, 81, 76, 79, 62, 76, 77, 69],\n",
       "       [80, 65, 77, 66, 69, 77, 55, 67, 77, 40],\n",
       "       [82, 82, 82, 79, 82, 78, 54, 76, 71, 41],\n",
       "       [70, 69, 67, 77, 70, 77, 57, 74, 79, 44],\n",
       "       [78, 64, 80, 78, 45, 80, 60, 70, 62, 82],\n",
       "       [35, 35, 80, 74, 82, 78, 66, 81, 81, 27],\n",
       "       [40, 40, 40, 81, 78, 81, 39,  0, 10, 51],\n",
       "       [75, 51, 51, 79, 77, 76, 49, 69, 54, 62]])"
      ]
     },
     "execution_count": 66,
     "metadata": {},
     "output_type": "execute_result"
    }
   ],
   "source": [
    "Games"
   ]
  },
  {
   "cell_type": "code",
   "execution_count": 67,
   "id": "e06878bd",
   "metadata": {},
   "outputs": [
    {
     "data": {
      "text/plain": [
       "{'Sachin': 0,\n",
       " 'Rahul': 1,\n",
       " 'Smith': 2,\n",
       " 'Sami': 3,\n",
       " 'Pollard': 4,\n",
       " 'Morris': 5,\n",
       " 'Samson': 6,\n",
       " 'Dhoni': 7,\n",
       " 'Kohli': 8,\n",
       " 'Sky': 9}"
      ]
     },
     "execution_count": 67,
     "metadata": {},
     "output_type": "execute_result"
    }
   ],
   "source": [
    "Pdict"
   ]
  },
  {
   "cell_type": "code",
   "execution_count": 68,
   "id": "a1ca7563",
   "metadata": {},
   "outputs": [
    {
     "data": {
      "text/plain": [
       "0"
      ]
     },
     "execution_count": 68,
     "metadata": {},
     "output_type": "execute_result"
    }
   ],
   "source": [
    "# how do i know player kobebryant is at\n",
    "\n",
    "Pdict['Sachin']"
   ]
  },
  {
   "cell_type": "code",
   "execution_count": 69,
   "id": "8175fc81",
   "metadata": {},
   "outputs": [
    {
     "data": {
      "text/plain": [
       "array([80, 77, 82, 82, 73, 82, 58, 78,  6, 35])"
      ]
     },
     "execution_count": 69,
     "metadata": {},
     "output_type": "execute_result"
    }
   ],
   "source": [
    "Games[0] "
   ]
  },
  {
   "cell_type": "code",
   "execution_count": 70,
   "id": "0e0578e9",
   "metadata": {},
   "outputs": [
    {
     "data": {
      "text/plain": [
       "array([[80, 77, 82, 82, 73, 82, 58, 78,  6, 35],\n",
       "       [82, 57, 82, 79, 76, 72, 60, 72, 79, 80],\n",
       "       [79, 78, 75, 81, 76, 79, 62, 76, 77, 69],\n",
       "       [80, 65, 77, 66, 69, 77, 55, 67, 77, 40],\n",
       "       [82, 82, 82, 79, 82, 78, 54, 76, 71, 41],\n",
       "       [70, 69, 67, 77, 70, 77, 57, 74, 79, 44],\n",
       "       [78, 64, 80, 78, 45, 80, 60, 70, 62, 82],\n",
       "       [35, 35, 80, 74, 82, 78, 66, 81, 81, 27],\n",
       "       [40, 40, 40, 81, 78, 81, 39,  0, 10, 51],\n",
       "       [75, 51, 51, 79, 77, 76, 49, 69, 54, 62]])"
      ]
     },
     "execution_count": 70,
     "metadata": {},
     "output_type": "execute_result"
    }
   ],
   "source": [
    "Games"
   ]
  },
  {
   "cell_type": "code",
   "execution_count": 71,
   "id": "7494136e",
   "metadata": {},
   "outputs": [
    {
     "data": {
      "text/plain": [
       "1"
      ]
     },
     "execution_count": 71,
     "metadata": {},
     "output_type": "execute_result"
    }
   ],
   "source": [
    "Pdict['Rahul']"
   ]
  },
  {
   "cell_type": "code",
   "execution_count": 72,
   "id": "21953409",
   "metadata": {},
   "outputs": [
    {
     "data": {
      "text/plain": [
       "array([82, 57, 82, 79, 76, 72, 60, 72, 79, 80])"
      ]
     },
     "execution_count": 72,
     "metadata": {},
     "output_type": "execute_result"
    }
   ],
   "source": [
    "Games[1]"
   ]
  },
  {
   "cell_type": "markdown",
   "id": "ec2c1a97",
   "metadata": {},
   "source": [
    "# Games"
   ]
  },
  {
   "cell_type": "code",
   "execution_count": 73,
   "id": "4f3e7a81",
   "metadata": {},
   "outputs": [
    {
     "data": {
      "text/plain": [
       "array([82, 57, 82, 79, 76, 72, 60, 72, 79, 80])"
      ]
     },
     "execution_count": 73,
     "metadata": {},
     "output_type": "execute_result"
    }
   ],
   "source": [
    "Games[Pdict['Rahul']]"
   ]
  },
  {
   "cell_type": "code",
   "execution_count": 74,
   "id": "2c552c89",
   "metadata": {},
   "outputs": [
    {
     "data": {
      "text/plain": [
       "array([[2832, 2430, 2323, 2201, 1970, 2078, 1616, 2133,   83,  782],\n",
       "       [1653, 1426, 1779, 1688, 1619, 1312, 1129, 1170, 1245, 1154],\n",
       "       [2478, 2132, 2250, 2304, 2258, 2111, 1683, 2036, 2089, 1743],\n",
       "       [2122, 1881, 1978, 1504, 1943, 1970, 1245, 1920, 2112,  966],\n",
       "       [1292, 1443, 1695, 1624, 1503, 1784, 1113, 1296, 1297,  646],\n",
       "       [1572, 1561, 1496, 1746, 1678, 1438, 1025, 1232, 1281,  928],\n",
       "       [1258, 1104, 1684, 1781,  841, 1268, 1189, 1186, 1185, 1564],\n",
       "       [ 903,  903, 1624, 1871, 2472, 2161, 1850, 2280, 2593,  686],\n",
       "       [ 597,  597,  597, 1361, 1619, 2026,  852,    0,  159,  904],\n",
       "       [2040, 1397, 1254, 2386, 2045, 1941, 1082, 1463, 1028, 1331]])"
      ]
     },
     "execution_count": 74,
     "metadata": {},
     "output_type": "execute_result"
    }
   ],
   "source": [
    "Points"
   ]
  },
  {
   "cell_type": "code",
   "execution_count": 75,
   "id": "5116aa62",
   "metadata": {},
   "outputs": [
    {
     "data": {
      "text/plain": [
       "array([[15946875, 17718750, 19490625, 21262500, 23034375, 24806250,\n",
       "        25244493, 27849149, 30453805, 23500000],\n",
       "       [12000000, 12744189, 13488377, 14232567, 14976754, 16324500,\n",
       "        18038573, 19752645, 21466718, 23180790],\n",
       "       [ 4621800,  5828090, 13041250, 14410581, 15779912, 14500000,\n",
       "        16022500, 17545000, 19067500, 20644400],\n",
       "       [ 3713640,  4694041, 13041250, 14410581, 15779912, 17149243,\n",
       "        18518574, 19450000, 22407474, 22458000],\n",
       "       [ 4493160,  4806720,  6061274, 13758000, 15202590, 16647180,\n",
       "        18091770, 19536360, 20513178, 21436271],\n",
       "       [ 3348000,  4235220, 12455000, 14410581, 15779912, 14500000,\n",
       "        16022500, 17545000, 19067500, 20644400],\n",
       "       [ 3144240,  3380160,  3615960,  4574189, 13520500, 14940153,\n",
       "        16359805, 17779458, 18668431, 20068563],\n",
       "       [       0,        0,  4171200,  4484040,  4796880,  6053663,\n",
       "        15506632, 16669630, 17832627, 18995624],\n",
       "       [       0,        0,        0,  4822800,  5184480,  5546160,\n",
       "         6993708, 16402500, 17632688, 18862875],\n",
       "       [ 3031920,  3841443, 13041250, 14410581, 15779912, 14200000,\n",
       "        15691000, 17182000, 18673000, 15000000]])"
      ]
     },
     "execution_count": 75,
     "metadata": {},
     "output_type": "execute_result"
    }
   ],
   "source": [
    "Salary"
   ]
  },
  {
   "cell_type": "code",
   "execution_count": 76,
   "id": "b1b4bd65",
   "metadata": {},
   "outputs": [
    {
     "data": {
      "text/plain": [
       "15779912"
      ]
     },
     "execution_count": 76,
     "metadata": {},
     "output_type": "execute_result"
    }
   ],
   "source": [
    "Salary[2,4]"
   ]
  },
  {
   "cell_type": "code",
   "execution_count": 77,
   "id": "497d7f2e",
   "metadata": {},
   "outputs": [
    {
     "data": {
      "text/plain": [
       "array([[15946875, 17718750, 19490625, 21262500, 23034375, 24806250,\n",
       "        25244493, 27849149, 30453805, 23500000],\n",
       "       [12000000, 12744189, 13488377, 14232567, 14976754, 16324500,\n",
       "        18038573, 19752645, 21466718, 23180790],\n",
       "       [ 4621800,  5828090, 13041250, 14410581, 15779912, 14500000,\n",
       "        16022500, 17545000, 19067500, 20644400],\n",
       "       [ 3713640,  4694041, 13041250, 14410581, 15779912, 17149243,\n",
       "        18518574, 19450000, 22407474, 22458000],\n",
       "       [ 4493160,  4806720,  6061274, 13758000, 15202590, 16647180,\n",
       "        18091770, 19536360, 20513178, 21436271],\n",
       "       [ 3348000,  4235220, 12455000, 14410581, 15779912, 14500000,\n",
       "        16022500, 17545000, 19067500, 20644400],\n",
       "       [ 3144240,  3380160,  3615960,  4574189, 13520500, 14940153,\n",
       "        16359805, 17779458, 18668431, 20068563],\n",
       "       [       0,        0,  4171200,  4484040,  4796880,  6053663,\n",
       "        15506632, 16669630, 17832627, 18995624],\n",
       "       [       0,        0,        0,  4822800,  5184480,  5546160,\n",
       "         6993708, 16402500, 17632688, 18862875],\n",
       "       [ 3031920,  3841443, 13041250, 14410581, 15779912, 14200000,\n",
       "        15691000, 17182000, 18673000, 15000000]])"
      ]
     },
     "execution_count": 77,
     "metadata": {},
     "output_type": "execute_result"
    }
   ],
   "source": [
    "Salary"
   ]
  },
  {
   "cell_type": "code",
   "execution_count": 78,
   "id": "48f412c6",
   "metadata": {},
   "outputs": [
    {
     "data": {
      "text/plain": [
       "15000000"
      ]
     },
     "execution_count": 78,
     "metadata": {},
     "output_type": "execute_result"
    }
   ],
   "source": [
    "Salary[Pdict['Sky']][Sdict['2019']]"
   ]
  },
  {
   "cell_type": "code",
   "execution_count": 79,
   "id": "bafdcff7",
   "metadata": {},
   "outputs": [
    {
     "data": {
      "text/plain": [
       "array([[80, 77, 82, 82, 73, 82, 58, 78,  6, 35],\n",
       "       [82, 57, 82, 79, 76, 72, 60, 72, 79, 80],\n",
       "       [79, 78, 75, 81, 76, 79, 62, 76, 77, 69],\n",
       "       [80, 65, 77, 66, 69, 77, 55, 67, 77, 40],\n",
       "       [82, 82, 82, 79, 82, 78, 54, 76, 71, 41],\n",
       "       [70, 69, 67, 77, 70, 77, 57, 74, 79, 44],\n",
       "       [78, 64, 80, 78, 45, 80, 60, 70, 62, 82],\n",
       "       [35, 35, 80, 74, 82, 78, 66, 81, 81, 27],\n",
       "       [40, 40, 40, 81, 78, 81, 39,  0, 10, 51],\n",
       "       [75, 51, 51, 79, 77, 76, 49, 69, 54, 62]])"
      ]
     },
     "execution_count": 79,
     "metadata": {},
     "output_type": "execute_result"
    }
   ],
   "source": [
    "Games"
   ]
  },
  {
   "cell_type": "code",
   "execution_count": 80,
   "id": "9a669bd9",
   "metadata": {},
   "outputs": [
    {
     "name": "stderr",
     "output_type": "stream",
     "text": [
      "C:\\Users\\yogesh khairnar\\AppData\\Local\\Temp\\ipykernel_25404\\2380663075.py:1: RuntimeWarning: divide by zero encountered in divide\n",
      "  Salary/Games\n"
     ]
    },
    {
     "data": {
      "text/plain": [
       "array([[ 199335.9375    ,  230113.63636364,  237690.54878049,\n",
       "         259298.7804878 ,  315539.38356164,  302515.24390244,\n",
       "         435249.87931034,  357040.37179487, 5075634.16666667,\n",
       "         671428.57142857],\n",
       "       [ 146341.46341463,  223582.26315789,  164492.40243902,\n",
       "         180159.07594937,  197062.55263158,  226729.16666667,\n",
       "         300642.88333333,  274342.29166667,  271730.60759494,\n",
       "         289759.875     ],\n",
       "       [  58503.79746835,   74719.1025641 ,  173883.33333333,\n",
       "         177908.40740741,  207630.42105263,  183544.30379747,\n",
       "         258427.41935484,  230855.26315789,  247629.87012987,\n",
       "         299194.20289855],\n",
       "       [  46420.5       ,   72216.01538462,  169366.88311688,\n",
       "         218342.13636364,  228694.37681159,  222717.44155844,\n",
       "         336701.34545455,  290298.50746269,  291006.15584416,\n",
       "         561450.        ],\n",
       "       [  54794.63414634,   58618.53658537,   73917.97560976,\n",
       "         174151.89873418,  185397.43902439,  213425.38461538,\n",
       "         335032.77777778,  257057.36842105,  288918.        ,\n",
       "         522835.87804878],\n",
       "       [  47828.57142857,   61380.        ,  185895.52238806,\n",
       "         187150.4025974 ,  225427.31428571,  188311.68831169,\n",
       "         281096.49122807,  237094.59459459,  241360.75949367,\n",
       "         469190.90909091],\n",
       "       [  40310.76923077,   52815.        ,   45199.5       ,\n",
       "          58643.44871795,  300455.55555556,  186751.9125    ,\n",
       "         272663.41666667,  253992.25714286,  301103.72580645,\n",
       "         244738.57317073],\n",
       "       [      0.        ,       0.        ,   52140.        ,\n",
       "          60595.13513514,   58498.53658537,   77611.06410256,\n",
       "         234948.96969697,  205797.90123457,  220155.88888889,\n",
       "         703541.62962963],\n",
       "       [      0.        ,       0.        ,       0.        ,\n",
       "          59540.74074074,   66467.69230769,   68471.11111111,\n",
       "         179325.84615385,              inf, 1763268.8       ,\n",
       "         369860.29411765],\n",
       "       [  40425.6       ,   75322.41176471,  255710.78431373,\n",
       "         182412.41772152,  204933.92207792,  186842.10526316,\n",
       "         320224.48979592,  249014.49275362,  345796.2962963 ,\n",
       "         241935.48387097]])"
      ]
     },
     "execution_count": 80,
     "metadata": {},
     "output_type": "execute_result"
    }
   ],
   "source": [
    "Salary/Games   \n",
    "# sallery divided by games\n",
    "# that means  per game\n",
    "# by default output is in float"
   ]
  },
  {
   "cell_type": "code",
   "execution_count": 81,
   "id": "fb64c3b3",
   "metadata": {},
   "outputs": [
    {
     "name": "stderr",
     "output_type": "stream",
     "text": [
      "C:\\Users\\yogesh khairnar\\AppData\\Local\\Temp\\ipykernel_25404\\354480667.py:1: RuntimeWarning: divide by zero encountered in divide\n",
      "  np.round(Salary/Games)\n"
     ]
    },
    {
     "data": {
      "text/plain": [
       "array([[ 199336.,  230114.,  237691.,  259299.,  315539.,  302515.,\n",
       "         435250.,  357040., 5075634.,  671429.],\n",
       "       [ 146341.,  223582.,  164492.,  180159.,  197063.,  226729.,\n",
       "         300643.,  274342.,  271731.,  289760.],\n",
       "       [  58504.,   74719.,  173883.,  177908.,  207630.,  183544.,\n",
       "         258427.,  230855.,  247630.,  299194.],\n",
       "       [  46420.,   72216.,  169367.,  218342.,  228694.,  222717.,\n",
       "         336701.,  290299.,  291006.,  561450.],\n",
       "       [  54795.,   58619.,   73918.,  174152.,  185397.,  213425.,\n",
       "         335033.,  257057.,  288918.,  522836.],\n",
       "       [  47829.,   61380.,  185896.,  187150.,  225427.,  188312.,\n",
       "         281096.,  237095.,  241361.,  469191.],\n",
       "       [  40311.,   52815.,   45200.,   58643.,  300456.,  186752.,\n",
       "         272663.,  253992.,  301104.,  244739.],\n",
       "       [      0.,       0.,   52140.,   60595.,   58499.,   77611.,\n",
       "         234949.,  205798.,  220156.,  703542.],\n",
       "       [      0.,       0.,       0.,   59541.,   66468.,   68471.,\n",
       "         179326.,      inf, 1763269.,  369860.],\n",
       "       [  40426.,   75322.,  255711.,  182412.,  204934.,  186842.,\n",
       "         320224.,  249014.,  345796.,  241935.]])"
      ]
     },
     "execution_count": 81,
     "metadata": {},
     "output_type": "execute_result"
    }
   ],
   "source": [
    "np.round(Salary/Games)\n",
    "# sallery divided by games\n",
    "# that means  per game\n",
    "# sallery in interger (not in float)"
   ]
  },
  {
   "cell_type": "code",
   "execution_count": 82,
   "id": "6a9d0c98",
   "metadata": {},
   "outputs": [],
   "source": [
    "import warnings\n",
    "warnings.filterwarnings('ignore')\n",
    "#np.round(FieldGoals/Games) \n",
    "#FieldGoals/Games  # this matrix is lot of decimal points yo can not round\n",
    "#round()"
   ]
  },
  {
   "cell_type": "code",
   "execution_count": 83,
   "id": "a376b99c",
   "metadata": {},
   "outputs": [],
   "source": [
    "## --- First visualization ----##"
   ]
  },
  {
   "cell_type": "code",
   "execution_count": 86,
   "id": "2966a0d4",
   "metadata": {},
   "outputs": [],
   "source": [
    "import numpy as np \n",
    "import matplotlib.pyplot as plt"
   ]
  },
  {
   "cell_type": "code",
   "execution_count": 87,
   "id": "61b22f28",
   "metadata": {},
   "outputs": [
    {
     "name": "stderr",
     "output_type": "stream",
     "text": [
      "UsageError: unrecognized arguments: # keep the plot inside jupyter nots insted of getting in other screen\n"
     ]
    }
   ],
   "source": [
    "%matplotlib inline # keep the plot inside jupyter nots insted of getting in other screen"
   ]
  },
  {
   "cell_type": "code",
   "execution_count": 88,
   "id": "fc619ff5",
   "metadata": {},
   "outputs": [
    {
     "data": {
      "text/plain": [
       "array([[15946875, 17718750, 19490625, 21262500, 23034375, 24806250,\n",
       "        25244493, 27849149, 30453805, 23500000],\n",
       "       [12000000, 12744189, 13488377, 14232567, 14976754, 16324500,\n",
       "        18038573, 19752645, 21466718, 23180790],\n",
       "       [ 4621800,  5828090, 13041250, 14410581, 15779912, 14500000,\n",
       "        16022500, 17545000, 19067500, 20644400],\n",
       "       [ 3713640,  4694041, 13041250, 14410581, 15779912, 17149243,\n",
       "        18518574, 19450000, 22407474, 22458000],\n",
       "       [ 4493160,  4806720,  6061274, 13758000, 15202590, 16647180,\n",
       "        18091770, 19536360, 20513178, 21436271],\n",
       "       [ 3348000,  4235220, 12455000, 14410581, 15779912, 14500000,\n",
       "        16022500, 17545000, 19067500, 20644400],\n",
       "       [ 3144240,  3380160,  3615960,  4574189, 13520500, 14940153,\n",
       "        16359805, 17779458, 18668431, 20068563],\n",
       "       [       0,        0,  4171200,  4484040,  4796880,  6053663,\n",
       "        15506632, 16669630, 17832627, 18995624],\n",
       "       [       0,        0,        0,  4822800,  5184480,  5546160,\n",
       "         6993708, 16402500, 17632688, 18862875],\n",
       "       [ 3031920,  3841443, 13041250, 14410581, 15779912, 14200000,\n",
       "        15691000, 17182000, 18673000, 15000000]])"
      ]
     },
     "execution_count": 88,
     "metadata": {},
     "output_type": "execute_result"
    }
   ],
   "source": [
    "Salary"
   ]
  },
  {
   "cell_type": "code",
   "execution_count": 89,
   "id": "07953602",
   "metadata": {},
   "outputs": [
    {
     "data": {
      "text/plain": [
       "array([15946875, 17718750, 19490625, 21262500, 23034375, 24806250,\n",
       "       25244493, 27849149, 30453805, 23500000])"
      ]
     },
     "execution_count": 89,
     "metadata": {},
     "output_type": "execute_result"
    }
   ],
   "source": [
    "Salary[0] "
   ]
  },
  {
   "cell_type": "code",
   "execution_count": 90,
   "id": "fa2a7b74",
   "metadata": {},
   "outputs": [
    {
     "data": {
      "text/plain": [
       "[<matplotlib.lines.Line2D at 0x210483789a0>]"
      ]
     },
     "execution_count": 90,
     "metadata": {},
     "output_type": "execute_result"
    },
    {
     "data": {
      "image/png": "[encoded data removed]",
      "text/plain": [
       "<Figure size 640x480 with 1 Axes>"
      ]
     },
     "metadata": {},
     "output_type": "display_data"
    }
   ],
   "source": [
    "plt.plot(Salary[0]) "
   ]
  },
  {
   "cell_type": "code",
   "execution_count": null,
   "id": "f6c2b8e9",
   "metadata": {},
   "outputs": [],
   "source": [
    "plt.plot(Salary[0], c='red')"
   ]
  },
  {
   "cell_type": "code",
   "execution_count": null,
   "id": "e638bbde",
   "metadata": {},
   "outputs": [],
   "source": [
    "%matplotlib inline \n",
    "plt.rcParams['figure.figsize'] = 10,6"
   ]
  },
  {
   "cell_type": "code",
   "execution_count": null,
   "id": "ea1ac2ae",
   "metadata": {},
   "outputs": [],
   "source": [
    "plt.plot(Salary[0], c='Blue', ls = 'dashed')"
   ]
  },
  {
   "cell_type": "code",
   "execution_count": null,
   "id": "01386835",
   "metadata": {},
   "outputs": [],
   "source": [
    "plt.plot(Salary[0], c='Green', ls = '--', marker = 's') # s - squares"
   ]
  },
  {
   "cell_type": "code",
   "execution_count": null,
   "id": "99f68c9b",
   "metadata": {},
   "outputs": [],
   "source": [
    "%matplotlib inline\n",
    "plt.rcParams['figure.figsize'] = 10,8 #runtime configuration parameter"
   ]
  },
  {
   "cell_type": "code",
   "execution_count": null,
   "id": "8a074000",
   "metadata": {},
   "outputs": [],
   "source": [
    "plt.plot(Salary[0], c='Green', ls = '--', marker = 's', ms = 10)\n",
    "plt.show()"
   ]
  },
  {
   "cell_type": "code",
   "execution_count": null,
   "id": "a83b365d",
   "metadata": {},
   "outputs": [],
   "source": [
    "list(range(0,10))"
   ]
  },
  {
   "cell_type": "code",
   "execution_count": null,
   "id": "e969e62b",
   "metadata": {},
   "outputs": [],
   "source": [
    "Sdict"
   ]
  },
  {
   "cell_type": "code",
   "execution_count": null,
   "id": "11565370",
   "metadata": {},
   "outputs": [],
   "source": [
    "Pdict"
   ]
  },
  {
   "cell_type": "code",
   "execution_count": null,
   "id": "3320887a",
   "metadata": {},
   "outputs": [],
   "source": [
    "plt.plot(Salary[0], c='Green', ls = '--', marker = 's', ms = 7)\n",
    "plt.xticks(list(range(0,10)), Seasons) \n",
    "plt.show() "
   ]
  },
  {
   "cell_type": "code",
   "execution_count": null,
   "id": "06d7a07f",
   "metadata": {},
   "outputs": [],
   "source": [
    "plt.plot(Salary[0], c='Green', ls = ':', marker = 's', ms = 7, label = Players[0])\n",
    "plt.xticks(list(range(0,10)), Seasons,rotation='vertical')\n",
    "plt.show()"
   ]
  },
  {
   "cell_type": "code",
   "execution_count": null,
   "id": "cdcaed00",
   "metadata": {},
   "outputs": [],
   "source": [
    "Games"
   ]
  },
  {
   "cell_type": "code",
   "execution_count": null,
   "id": "df883e62",
   "metadata": {},
   "outputs": [],
   "source": [
    "plt.plot(Salary[0], c='Green', ls = '--', marker = 's', ms = 7, label = Players[0])\n",
    "plt.xticks(list(range(0,10)), Seasons,rotation='horizontal')\n",
    "plt.show()"
   ]
  },
  {
   "cell_type": "code",
   "execution_count": null,
   "id": "3898a502",
   "metadata": {},
   "outputs": [],
   "source": [
    "Salary[0]"
   ]
  },
  {
   "cell_type": "code",
   "execution_count": null,
   "id": "a0d941f1",
   "metadata": {},
   "outputs": [],
   "source": [
    "Salary[1]"
   ]
  },
  {
   "cell_type": "code",
   "execution_count": null,
   "id": "60d8fc7e",
   "metadata": {},
   "outputs": [],
   "source": [
    "plt.plot(Salary[1], c='Blue', ls = ':', marker = 'o', ms = 10, label = Players[1])"
   ]
  },
  {
   "cell_type": "code",
   "execution_count": null,
   "id": "383e992f",
   "metadata": {},
   "outputs": [],
   "source": [
    "# More visualization"
   ]
  },
  {
   "cell_type": "code",
   "execution_count": null,
   "id": "711d9d66",
   "metadata": {},
   "outputs": [],
   "source": [
    "plt.plot(Salary[0], c='Green', ls = '--', marker = 's', ms = 10, label = Players[0])\n",
    "plt.plot(Salary[1], c='Blue', ls = ':', marker = 'o', ms = 10, label = Players[1])\n",
    "\n",
    "plt.xticks(list(range(0,10)), Seasons,rotation='vertical')\n",
    "\n",
    "plt.show()"
   ]
  },
  {
   "cell_type": "code",
   "execution_count": null,
   "id": "30c04ebf",
   "metadata": {},
   "outputs": [],
   "source": [
    "plt.plot(Salary[0], c='Green', ls = '--', marker = 's', ms = 7, label = Players[0])\n",
    "plt.plot(Salary[1], c='Blue', ls = '--', marker = 'o', ms = 5, label = Players[1])\n",
    "plt.plot(Salary[2], c='purple', ls = '--', marker = '^', ms = 8, label = Players[2])\n",
    "\n",
    "\n",
    "plt.xticks(list(range(0,10)), Seasons,rotation='vertical')\n",
    "\n",
    "plt.show()"
   ]
  },
  {
   "cell_type": "code",
   "execution_count": null,
   "id": "71ed7440",
   "metadata": {},
   "outputs": [],
   "source": [
    "plt.plot(Salary[0], c='Green', ls = '--', marker = 's', ms = 7, label = Players[0])\n",
    "plt.plot(Salary[1], c='Blue', ls = '-', marker = 'o', ms = 5, label = Players[1])\n",
    "plt.plot(Salary[2], c='purple', ls = '--', marker = '^', ms = 8, label = Players[2])\n",
    "plt.plot(Salary[3], c='Red', ls = ':', marker = 'd', ms = 8, label = Players[3])\n",
    "\n",
    "plt.xticks(list(range(0,10)), Seasons,rotation='vertical')\n",
    "\n",
    "plt.show()"
   ]
  },
  {
   "cell_type": "code",
   "execution_count": null,
   "id": "9a2104db",
   "metadata": {},
   "outputs": [],
   "source": [
    "# how to add legned in visualisation\n",
    "\n",
    "plt.plot(Salary[0], c='Green', ls = '--', marker = 's', ms = 7, label = Players[0])\n",
    "plt.plot(Salary[1], c='Blue', ls = ':', marker = 'o', ms = 5, label = Players[1])\n",
    "plt.plot(Salary[2], c='purple', ls = '-', marker = '^', ms = 8, label = Players[2])\n",
    "plt.plot(Salary[3], c='Red', ls = '--', marker = 'd', ms = 8, label = Players[3])\n",
    "plt.legend() \n",
    "plt.xticks(list(range(0,10)), Seasons,rotation='vertical')\n",
    "\n",
    "plt.show()"
   ]
  },
  {
   "cell_type": "code",
   "execution_count": null,
   "id": "869a9592",
   "metadata": {},
   "outputs": [],
   "source": [
    "plt.plot(Salary[0], c='Green', ls = '--', marker = 's', ms = 7, label = Players[0])\n",
    "plt.plot(Salary[1], c='Blue', ls = '--', marker = 'o', ms = 5, label = Players[1])\n",
    "plt.plot(Salary[2], c='purple', ls = '--', marker = '^', ms = 8, label = Players[2])\n",
    "plt.plot(Salary[3], c='Red', ls = '--', marker = 'd', ms = 8, label = Players[3])\n",
    "plt.legend(loc = 'upper left',bbox_to_anchor=(0,0) ) \n",
    "plt.xticks(list(range(0,10)), Seasons,rotation='vertical')\n",
    "\n",
    "plt.show()"
   ]
  },
  {
   "cell_type": "code",
   "execution_count": null,
   "id": "34ca3870",
   "metadata": {},
   "outputs": [],
   "source": [
    "plt.plot(Salary[0], c='Green', ls = '--', marker = 's', ms = 7, label = Players[0])\n",
    "plt.plot(Salary[1], c='Blue', ls = '--', marker = 'o', ms = 5, label = Players[1])\n",
    "plt.plot(Salary[2], c='Green', ls = '--', marker = '^', ms = 8, label = Players[2])\n",
    "plt.plot(Salary[3], c='Red', ls = '--', marker = 'd', ms = 8, label = Players[3])\n",
    "plt.legend(loc = 'upper right',bbox_to_anchor=(1,0) )\n",
    "plt.xticks(list(range(0,10)), Seasons,rotation='vertical')\n",
    "\n",
    "plt.show()"
   ]
  },
  {
   "cell_type": "code",
   "execution_count": null,
   "id": "ef59c5c2",
   "metadata": {},
   "outputs": [],
   "source": [
    "plt.plot(Salary[0], c='Green', ls = '--', marker = 's', ms = 7, label = Players[0])\n",
    "plt.plot(Salary[1], c='Blue', ls = '--', marker = 'o', ms = 5, label = Players[1])\n",
    "plt.plot(Salary[2], c='Green', ls = '--', marker = '^', ms = 8, label = Players[2])\n",
    "plt.plot(Salary[3], c='Red', ls = '--', marker = 'd', ms = 8, label = Players[3])\n",
    "plt.legend(loc = 'lower right',bbox_to_anchor=(0.5,1) )\n",
    "plt.xticks(list(range(0,10)), Seasons,rotation='vertical')\n",
    "\n",
    "plt.show()"
   ]
  },
  {
   "cell_type": "code",
   "execution_count": null,
   "id": "5ce56eb6",
   "metadata": {},
   "outputs": [],
   "source": [
    "plt.plot(Salary[0], c='Green', ls = '--', marker = 's', ms = 7, label = Players[0])\n",
    "plt.plot(Salary[1], c='Blue', ls = '--', marker = 'o', ms = 7, label = Players[1])\n",
    "plt.plot(Salary[2], c='Green', ls = '--', marker = '^', ms = 7, label = Players[2])\n",
    "plt.plot(Salary[3], c='Purple', ls = '--', marker = 'D', ms = 7, label = Players[3])\n",
    "plt.plot(Salary[4], c='Black', ls = '--', marker = 's', ms = 7, label = Players[4])\n",
    "plt.plot(Salary[5], c='Red', ls = '--', marker = 'o', ms = 7, label = Players[5])\n",
    "plt.plot(Salary[6], c='Red', ls = '--', marker = '^', ms = 7, label = Players[6])\n",
    "plt.plot(Salary[7], c='Red', ls = '--', marker = 'd', ms = 7, label = Players[7])\n",
    "plt.plot(Salary[8], c='Red', ls = '--', marker = 's', ms = 7, label = Players[8])\n",
    "plt.plot(Salary[9], c='Red', ls = '--', marker = 'o', ms = 7, label = Players[9])\n",
    "\n",
    "plt.legend(loc = 'lover right',bbox_to_anchor=(0.5,1) )\n",
    "plt.xticks(list(range(0,10)), Seasons,rotation='vertical')\n",
    "\n",
    "plt.show()"
   ]
  },
  {
   "cell_type": "code",
   "execution_count": null,
   "id": "346cff06",
   "metadata": {},
   "outputs": [],
   "source": [
    "# we can visualize the how many games played by a player\n",
    "\n",
    "plt.plot(Games[0], c='Green', ls = '--', marker = 's', ms = 7, label = Players[0])\n",
    "plt.plot(Games[1], c='Blue', ls = '--', marker = 'o', ms = 7, label = Players[1])\n",
    "plt.plot(Games[2], c='Green', ls = '--', marker = '^', ms = 7, label = Players[2])\n",
    "plt.plot(Games[3], c='Red', ls = '--', marker = 'D', ms = 7, label = Players[3])\n",
    "plt.plot(Games[4], c='Black', ls = '--', marker = 's', ms = 7, label = Players[4])\n",
    "plt.plot(Games[5], c='Blue', ls = '--', marker = 'o', ms = 7, label = Players[5])\n",
    "plt.plot(Games[6], c='red', ls = '--', marker = '^', ms = 7, label = Players[6])\n",
    "plt.plot(Games[7], c='Green', ls = '--', marker = 'd', ms = 7, label = Players[7])\n",
    "plt.plot(Games[8], c='Red', ls = '--', marker = 's', ms = 7, label = Players[8])\n",
    "plt.plot(Games[9], c='Blue', ls = '--', marker = 'o', ms = 7, label = Players[9])\n",
    "\n",
    "plt.legend(loc = 'lower right',bbox_to_anchor=(0.5,1) )\n",
    "plt.xticks(list(range(0,10)), Seasons,rotation='vertical')\n",
    "\n",
    "plt.show()"
   ]
  },
  {
   "cell_type": "markdown",
   "id": "b2fde4c3",
   "metadata": {},
   "source": [
    "* In this section we learned - \n",
    "1>Matrices\n",
    "2>Building matrices - np.reshape\n",
    "3>Dictionaried in python (order doesnot mater) (keys & values)\n",
    "4>visualizaing using pyplot\n",
    "5>Basket ball analysis"
   ]
  }
 ],
 "metadata": {
  "kernelspec": {
   "display_name": "Python 3 (ipykernel)",
   "language": "python",
   "name": "python3"
  },
  "language_info": {
   "codemirror_mode": {
    "name": "ipython",
    "version": 3
   },
   "file_extension": ".py",
   "mimetype": "text/x-python",
   "name": "python",
   "nbconvert_exporter": "python",
   "pygments_lexer": "ipython3",
   "version": "3.10.9"
  }
 },
 "nbformat": 4,
 "nbformat_minor": 5
}
